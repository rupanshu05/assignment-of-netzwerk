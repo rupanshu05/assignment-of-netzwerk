{
 "cells": [
  {
   "cell_type": "code",
   "execution_count": 1,
   "id": "ba2ad3fe",
   "metadata": {},
   "outputs": [],
   "source": [
    "import numpy as np\n",
    "import pandas as pd\n",
    "import matplotlib.pyplot as plt\n",
    "import seaborn as sns"
   ]
  },
  {
   "cell_type": "code",
   "execution_count": 2,
   "id": "32bf229c",
   "metadata": {},
   "outputs": [],
   "source": [
    "data = pd.read_csv(\"Bakery_Sales.csv\")"
   ]
  },
  {
   "cell_type": "code",
   "execution_count": 3,
   "id": "34cc5506",
   "metadata": {},
   "outputs": [
    {
     "data": {
      "text/plain": [
       "(2654, 27)"
      ]
     },
     "execution_count": 3,
     "metadata": {},
     "output_type": "execute_result"
    }
   ],
   "source": [
    "data.shape"
   ]
  },
  {
   "cell_type": "code",
   "execution_count": 4,
   "id": "65c10323",
   "metadata": {},
   "outputs": [
    {
     "data": {
      "text/html": [
       "<div>\n",
       "<style scoped>\n",
       "    .dataframe tbody tr th:only-of-type {\n",
       "        vertical-align: middle;\n",
       "    }\n",
       "\n",
       "    .dataframe tbody tr th {\n",
       "        vertical-align: top;\n",
       "    }\n",
       "\n",
       "    .dataframe thead th {\n",
       "        text-align: right;\n",
       "    }\n",
       "</style>\n",
       "<table border=\"1\" class=\"dataframe\">\n",
       "  <thead>\n",
       "    <tr style=\"text-align: right;\">\n",
       "      <th></th>\n",
       "      <th>datetime</th>\n",
       "      <th>day of week</th>\n",
       "      <th>total</th>\n",
       "      <th>place</th>\n",
       "      <th>angbutter</th>\n",
       "      <th>plain bread</th>\n",
       "      <th>jam</th>\n",
       "      <th>americano</th>\n",
       "      <th>croissant</th>\n",
       "      <th>caffe latte</th>\n",
       "      <th>...</th>\n",
       "      <th>gateau chocolat</th>\n",
       "      <th>pandoro</th>\n",
       "      <th>cheese cake</th>\n",
       "      <th>lemon ade</th>\n",
       "      <th>orange pound</th>\n",
       "      <th>wiener</th>\n",
       "      <th>vanila latte</th>\n",
       "      <th>berry ade</th>\n",
       "      <th>tiramisu</th>\n",
       "      <th>merinque cookies</th>\n",
       "    </tr>\n",
       "  </thead>\n",
       "  <tbody>\n",
       "    <tr>\n",
       "      <th>0</th>\n",
       "      <td>2019-07-11 15:35</td>\n",
       "      <td>Thur</td>\n",
       "      <td>23800.0</td>\n",
       "      <td>NaN</td>\n",
       "      <td>1.0</td>\n",
       "      <td>NaN</td>\n",
       "      <td>NaN</td>\n",
       "      <td>1.0</td>\n",
       "      <td>NaN</td>\n",
       "      <td>NaN</td>\n",
       "      <td>...</td>\n",
       "      <td>NaN</td>\n",
       "      <td>NaN</td>\n",
       "      <td>NaN</td>\n",
       "      <td>NaN</td>\n",
       "      <td>NaN</td>\n",
       "      <td>NaN</td>\n",
       "      <td>1.0</td>\n",
       "      <td>NaN</td>\n",
       "      <td>NaN</td>\n",
       "      <td>NaN</td>\n",
       "    </tr>\n",
       "    <tr>\n",
       "      <th>1</th>\n",
       "      <td>2019-07-11 16:10</td>\n",
       "      <td>Thur</td>\n",
       "      <td>15800.0</td>\n",
       "      <td>NaN</td>\n",
       "      <td>1.0</td>\n",
       "      <td>NaN</td>\n",
       "      <td>NaN</td>\n",
       "      <td>NaN</td>\n",
       "      <td>NaN</td>\n",
       "      <td>NaN</td>\n",
       "      <td>...</td>\n",
       "      <td>NaN</td>\n",
       "      <td>NaN</td>\n",
       "      <td>NaN</td>\n",
       "      <td>NaN</td>\n",
       "      <td>1.0</td>\n",
       "      <td>NaN</td>\n",
       "      <td>NaN</td>\n",
       "      <td>NaN</td>\n",
       "      <td>NaN</td>\n",
       "      <td>NaN</td>\n",
       "    </tr>\n",
       "    <tr>\n",
       "      <th>2</th>\n",
       "      <td>2019-07-12 11:49</td>\n",
       "      <td>Fri</td>\n",
       "      <td>58000.0</td>\n",
       "      <td>NaN</td>\n",
       "      <td>NaN</td>\n",
       "      <td>NaN</td>\n",
       "      <td>NaN</td>\n",
       "      <td>NaN</td>\n",
       "      <td>NaN</td>\n",
       "      <td>NaN</td>\n",
       "      <td>...</td>\n",
       "      <td>NaN</td>\n",
       "      <td>NaN</td>\n",
       "      <td>NaN</td>\n",
       "      <td>NaN</td>\n",
       "      <td>NaN</td>\n",
       "      <td>NaN</td>\n",
       "      <td>NaN</td>\n",
       "      <td>NaN</td>\n",
       "      <td>NaN</td>\n",
       "      <td>NaN</td>\n",
       "    </tr>\n",
       "    <tr>\n",
       "      <th>3</th>\n",
       "      <td>2019-07-13 13:19</td>\n",
       "      <td>Sat</td>\n",
       "      <td>14800.0</td>\n",
       "      <td>NaN</td>\n",
       "      <td>1.0</td>\n",
       "      <td>1.0</td>\n",
       "      <td>NaN</td>\n",
       "      <td>NaN</td>\n",
       "      <td>NaN</td>\n",
       "      <td>NaN</td>\n",
       "      <td>...</td>\n",
       "      <td>NaN</td>\n",
       "      <td>NaN</td>\n",
       "      <td>NaN</td>\n",
       "      <td>NaN</td>\n",
       "      <td>NaN</td>\n",
       "      <td>NaN</td>\n",
       "      <td>1.0</td>\n",
       "      <td>NaN</td>\n",
       "      <td>NaN</td>\n",
       "      <td>NaN</td>\n",
       "    </tr>\n",
       "    <tr>\n",
       "      <th>4</th>\n",
       "      <td>2019-07-13 13:22</td>\n",
       "      <td>Sat</td>\n",
       "      <td>15600.0</td>\n",
       "      <td>NaN</td>\n",
       "      <td>2.0</td>\n",
       "      <td>NaN</td>\n",
       "      <td>NaN</td>\n",
       "      <td>NaN</td>\n",
       "      <td>NaN</td>\n",
       "      <td>NaN</td>\n",
       "      <td>...</td>\n",
       "      <td>NaN</td>\n",
       "      <td>NaN</td>\n",
       "      <td>NaN</td>\n",
       "      <td>NaN</td>\n",
       "      <td>NaN</td>\n",
       "      <td>NaN</td>\n",
       "      <td>NaN</td>\n",
       "      <td>NaN</td>\n",
       "      <td>NaN</td>\n",
       "      <td>NaN</td>\n",
       "    </tr>\n",
       "  </tbody>\n",
       "</table>\n",
       "<p>5 rows × 27 columns</p>\n",
       "</div>"
      ],
      "text/plain": [
       "           datetime day of week    total place  angbutter  plain bread  jam  \\\n",
       "0  2019-07-11 15:35        Thur  23800.0   NaN        1.0          NaN  NaN   \n",
       "1  2019-07-11 16:10        Thur  15800.0   NaN        1.0          NaN  NaN   \n",
       "2  2019-07-12 11:49         Fri  58000.0   NaN        NaN          NaN  NaN   \n",
       "3  2019-07-13 13:19         Sat  14800.0   NaN        1.0          1.0  NaN   \n",
       "4  2019-07-13 13:22         Sat  15600.0   NaN        2.0          NaN  NaN   \n",
       "\n",
       "   americano  croissant  caffe latte  ...  gateau chocolat  pandoro  \\\n",
       "0        1.0        NaN          NaN  ...              NaN      NaN   \n",
       "1        NaN        NaN          NaN  ...              NaN      NaN   \n",
       "2        NaN        NaN          NaN  ...              NaN      NaN   \n",
       "3        NaN        NaN          NaN  ...              NaN      NaN   \n",
       "4        NaN        NaN          NaN  ...              NaN      NaN   \n",
       "\n",
       "   cheese cake  lemon ade  orange pound  wiener  vanila latte  berry ade  \\\n",
       "0          NaN        NaN           NaN     NaN           1.0        NaN   \n",
       "1          NaN        NaN           1.0     NaN           NaN        NaN   \n",
       "2          NaN        NaN           NaN     NaN           NaN        NaN   \n",
       "3          NaN        NaN           NaN     NaN           1.0        NaN   \n",
       "4          NaN        NaN           NaN     NaN           NaN        NaN   \n",
       "\n",
       "   tiramisu  merinque cookies  \n",
       "0       NaN               NaN  \n",
       "1       NaN               NaN  \n",
       "2       NaN               NaN  \n",
       "3       NaN               NaN  \n",
       "4       NaN               NaN  \n",
       "\n",
       "[5 rows x 27 columns]"
      ]
     },
     "execution_count": 4,
     "metadata": {},
     "output_type": "execute_result"
    }
   ],
   "source": [
    "data.head()"
   ]
  },
  {
   "cell_type": "code",
   "execution_count": 5,
   "id": "59fd5005",
   "metadata": {},
   "outputs": [],
   "source": [
    "plt.rcParams[\"figure.figsize\"] = (9,4)"
   ]
  },
  {
   "cell_type": "code",
   "execution_count": 6,
   "id": "d3a990a7",
   "metadata": {},
   "outputs": [
    {
     "data": {
      "image/png": "[encoded data removed]",
      "text/plain": [
       "<Figure size 648x288 with 1 Axes>"
      ]
     },
     "metadata": {
      "needs_background": "light"
     },
     "output_type": "display_data"
    }
   ],
   "source": [
    "sns.barplot(x = data[\"day of week\"], \n",
    "       y = data [\"total\"], \n",
    "       palette = \"Reds\" )\n",
    "plt.title(\"WEEKLY SALES\")\n",
    "plt.show()"
   ]
  },
  {
   "cell_type": "code",
   "execution_count": 7,
   "id": "1285e6c0",
   "metadata": {},
   "outputs": [
    {
     "data": {
      "image/png": "[encoded data removed]",
      "text/plain": [
       "<Figure size 648x288 with 1 Axes>"
      ]
     },
     "metadata": {
      "needs_background": "light"
     },
     "output_type": "display_data"
    }
   ],
   "source": [
    "sns.scatterplot(x = data[\"day of week\"],\n",
    "               y = data[\"total\"])\n",
    "plt.title(\"WEEKLY SALES\")\n",
    "plt.show()"
   ]
  },
  {
   "cell_type": "code",
   "execution_count": 8,
   "id": "bba9f09c",
   "metadata": {},
   "outputs": [
    {
     "data": {
      "text/plain": [
       "<function matplotlib.pyplot.show(close=None, block=None)>"
      ]
     },
     "execution_count": 8,
     "metadata": {},
     "output_type": "execute_result"
    },
    {
     "data": {
      "image/png": "[encoded data removed]",
      "text/plain": [
       "<Figure size 648x288 with 1 Axes>"
      ]
     },
     "metadata": {
      "needs_background": "light"
     },
     "output_type": "display_data"
    }
   ],
   "source": [
    "sns.boxplot(x = data[\"day of week\"],\n",
    "               y = data[\"total\"],\n",
    "            palette = \"Greens\")\n",
    "plt.title(\"WEEKLY SALES\")\n",
    "plt.show\n"
   ]
  },
  {
   "cell_type": "code",
   "execution_count": 9,
   "id": "d3896328",
   "metadata": {},
   "outputs": [
    {
     "data": {
      "text/plain": [
       "<function matplotlib.pyplot.show(close=None, block=None)>"
      ]
     },
     "execution_count": 9,
     "metadata": {},
     "output_type": "execute_result"
    },
    {
     "data": {
      "image/png": "[encoded data removed]",
      "text/plain": [
       "<Figure size 648x288 with 1 Axes>"
      ]
     },
     "metadata": {
      "needs_background": "light"
     },
     "output_type": "display_data"
    }
   ],
   "source": [
    "sns.lineplot(x = data[\"day of week\"],\n",
    "               y = data[\"total\"],\n",
    "            palette = \"Greens\")\n",
    "plt.title(\"WEEKLY SALES\")\n",
    "plt.show"
   ]
  },
  {
   "cell_type": "code",
   "execution_count": null,
   "id": "c838a79f",
   "metadata": {},
   "outputs": [],
   "source": []
  }
 ],
 "metadata": {
  "kernelspec": {
   "display_name": "Python 3 (ipykernel)",
   "language": "python",
   "name": "python3"
  },
  "language_info": {
   "codemirror_mode": {
    "name": "ipython",
    "version": 3
   },
   "file_extension": ".py",
   "mimetype": "text/x-python",
   "name": "python",
   "nbconvert_exporter": "python",
   "pygments_lexer": "ipython3",
   "version": "3.9.7"
  }
 },
 "nbformat": 4,
 "nbformat_minor": 5
}
