{
 "cells": [
  {
   "cell_type": "markdown",
   "id": "d61717d5",
   "metadata": {},
   "source": [
    "# Energy Efficiency Dataset\n",
    "Attribute Information:\n",
    "The dataset contains eight attributes (or features, denoted by X1…X8) and two responses (or outcomes, denoted by y1 and y2). The aim is to use the eight features to predict each of the two responses.\n",
    "Specifically:\n",
    "X1 Relative Compactness\n",
    "X2 Surface Area\n",
    "X3 Wall Area\n",
    "X4 Roof Area\n",
    "X5 Overall Height\n",
    "X6 Orientation\n",
    "X7 Glazing Area\n",
    "X8 Glazing Area Distribution\n",
    "y1 Heating Load\n",
    "y2 Cooling Load\n",
    "import pandas as pd"
   ]
  },
  {
   "cell_type": "code",
   "execution_count": 1,
   "id": "4a324536",
   "metadata": {},
   "outputs": [],
   "source": [
    "import pandas as pd\n",
    "import numpy as np\n",
    "import matplotlib.pyplot as plt\n",
    "import seaborn as sns\n",
    "from sklearn.model_selection import train_test_split\n",
    "from sklearn.metrics import r2_score"
   ]
  },
  {
   "cell_type": "code",
   "execution_count": 2,
   "id": "1f15c129",
   "metadata": {},
   "outputs": [],
   "source": [
    "data = pd.read_csv(\"ENB2012_data.csv\")"
   ]
  },
  {
   "cell_type": "code",
   "execution_count": 3,
   "id": "6260fbcd",
   "metadata": {},
   "outputs": [
    {
     "data": {
      "text/html": [
       "<div>\n",
       "<style scoped>\n",
       "    .dataframe tbody tr th:only-of-type {\n",
       "        vertical-align: middle;\n",
       "    }\n",
       "\n",
       "    .dataframe tbody tr th {\n",
       "        vertical-align: top;\n",
       "    }\n",
       "\n",
       "    .dataframe thead th {\n",
       "        text-align: right;\n",
       "    }\n",
       "</style>\n",
       "<table border=\"1\" class=\"dataframe\">\n",
       "  <thead>\n",
       "    <tr style=\"text-align: right;\">\n",
       "      <th></th>\n",
       "      <th>X1</th>\n",
       "      <th>X2</th>\n",
       "      <th>X3</th>\n",
       "      <th>X4</th>\n",
       "      <th>X5</th>\n",
       "      <th>X6</th>\n",
       "      <th>X7</th>\n",
       "      <th>X8</th>\n",
       "      <th>Y1</th>\n",
       "      <th>Y2</th>\n",
       "    </tr>\n",
       "  </thead>\n",
       "  <tbody>\n",
       "    <tr>\n",
       "      <th>0</th>\n",
       "      <td>0.98</td>\n",
       "      <td>514.5</td>\n",
       "      <td>294.0</td>\n",
       "      <td>110.25</td>\n",
       "      <td>7.0</td>\n",
       "      <td>2</td>\n",
       "      <td>0.0</td>\n",
       "      <td>0</td>\n",
       "      <td>15.55</td>\n",
       "      <td>21.33</td>\n",
       "    </tr>\n",
       "    <tr>\n",
       "      <th>1</th>\n",
       "      <td>0.98</td>\n",
       "      <td>514.5</td>\n",
       "      <td>294.0</td>\n",
       "      <td>110.25</td>\n",
       "      <td>7.0</td>\n",
       "      <td>3</td>\n",
       "      <td>0.0</td>\n",
       "      <td>0</td>\n",
       "      <td>15.55</td>\n",
       "      <td>21.33</td>\n",
       "    </tr>\n",
       "    <tr>\n",
       "      <th>2</th>\n",
       "      <td>0.98</td>\n",
       "      <td>514.5</td>\n",
       "      <td>294.0</td>\n",
       "      <td>110.25</td>\n",
       "      <td>7.0</td>\n",
       "      <td>4</td>\n",
       "      <td>0.0</td>\n",
       "      <td>0</td>\n",
       "      <td>15.55</td>\n",
       "      <td>21.33</td>\n",
       "    </tr>\n",
       "    <tr>\n",
       "      <th>3</th>\n",
       "      <td>0.98</td>\n",
       "      <td>514.5</td>\n",
       "      <td>294.0</td>\n",
       "      <td>110.25</td>\n",
       "      <td>7.0</td>\n",
       "      <td>5</td>\n",
       "      <td>0.0</td>\n",
       "      <td>0</td>\n",
       "      <td>15.55</td>\n",
       "      <td>21.33</td>\n",
       "    </tr>\n",
       "    <tr>\n",
       "      <th>4</th>\n",
       "      <td>0.90</td>\n",
       "      <td>563.5</td>\n",
       "      <td>318.5</td>\n",
       "      <td>122.50</td>\n",
       "      <td>7.0</td>\n",
       "      <td>2</td>\n",
       "      <td>0.0</td>\n",
       "      <td>0</td>\n",
       "      <td>20.84</td>\n",
       "      <td>28.28</td>\n",
       "    </tr>\n",
       "    <tr>\n",
       "      <th>5</th>\n",
       "      <td>0.90</td>\n",
       "      <td>563.5</td>\n",
       "      <td>318.5</td>\n",
       "      <td>122.50</td>\n",
       "      <td>7.0</td>\n",
       "      <td>3</td>\n",
       "      <td>0.0</td>\n",
       "      <td>0</td>\n",
       "      <td>21.46</td>\n",
       "      <td>25.38</td>\n",
       "    </tr>\n",
       "    <tr>\n",
       "      <th>6</th>\n",
       "      <td>0.90</td>\n",
       "      <td>563.5</td>\n",
       "      <td>318.5</td>\n",
       "      <td>122.50</td>\n",
       "      <td>7.0</td>\n",
       "      <td>4</td>\n",
       "      <td>0.0</td>\n",
       "      <td>0</td>\n",
       "      <td>20.71</td>\n",
       "      <td>25.16</td>\n",
       "    </tr>\n",
       "    <tr>\n",
       "      <th>7</th>\n",
       "      <td>0.90</td>\n",
       "      <td>563.5</td>\n",
       "      <td>318.5</td>\n",
       "      <td>122.50</td>\n",
       "      <td>7.0</td>\n",
       "      <td>5</td>\n",
       "      <td>0.0</td>\n",
       "      <td>0</td>\n",
       "      <td>19.68</td>\n",
       "      <td>29.60</td>\n",
       "    </tr>\n",
       "    <tr>\n",
       "      <th>8</th>\n",
       "      <td>0.86</td>\n",
       "      <td>588.0</td>\n",
       "      <td>294.0</td>\n",
       "      <td>147.00</td>\n",
       "      <td>7.0</td>\n",
       "      <td>2</td>\n",
       "      <td>0.0</td>\n",
       "      <td>0</td>\n",
       "      <td>19.50</td>\n",
       "      <td>27.30</td>\n",
       "    </tr>\n",
       "    <tr>\n",
       "      <th>9</th>\n",
       "      <td>0.86</td>\n",
       "      <td>588.0</td>\n",
       "      <td>294.0</td>\n",
       "      <td>147.00</td>\n",
       "      <td>7.0</td>\n",
       "      <td>3</td>\n",
       "      <td>0.0</td>\n",
       "      <td>0</td>\n",
       "      <td>19.95</td>\n",
       "      <td>21.97</td>\n",
       "    </tr>\n",
       "  </tbody>\n",
       "</table>\n",
       "</div>"
      ],
      "text/plain": [
       "     X1     X2     X3      X4   X5  X6   X7  X8     Y1     Y2\n",
       "0  0.98  514.5  294.0  110.25  7.0   2  0.0   0  15.55  21.33\n",
       "1  0.98  514.5  294.0  110.25  7.0   3  0.0   0  15.55  21.33\n",
       "2  0.98  514.5  294.0  110.25  7.0   4  0.0   0  15.55  21.33\n",
       "3  0.98  514.5  294.0  110.25  7.0   5  0.0   0  15.55  21.33\n",
       "4  0.90  563.5  318.5  122.50  7.0   2  0.0   0  20.84  28.28\n",
       "5  0.90  563.5  318.5  122.50  7.0   3  0.0   0  21.46  25.38\n",
       "6  0.90  563.5  318.5  122.50  7.0   4  0.0   0  20.71  25.16\n",
       "7  0.90  563.5  318.5  122.50  7.0   5  0.0   0  19.68  29.60\n",
       "8  0.86  588.0  294.0  147.00  7.0   2  0.0   0  19.50  27.30\n",
       "9  0.86  588.0  294.0  147.00  7.0   3  0.0   0  19.95  21.97"
      ]
     },
     "execution_count": 3,
     "metadata": {},
     "output_type": "execute_result"
    }
   ],
   "source": [
    "data.head(10)"
   ]
  },
  {
   "cell_type": "code",
   "execution_count": 4,
   "id": "10d79178",
   "metadata": {},
   "outputs": [
    {
     "name": "stdout",
     "output_type": "stream",
     "text": [
      "<class 'pandas.core.frame.DataFrame'>\n",
      "RangeIndex: 768 entries, 0 to 767\n",
      "Data columns (total 10 columns):\n",
      " #   Column  Non-Null Count  Dtype  \n",
      "---  ------  --------------  -----  \n",
      " 0   X1      768 non-null    float64\n",
      " 1   X2      768 non-null    float64\n",
      " 2   X3      768 non-null    float64\n",
      " 3   X4      768 non-null    float64\n",
      " 4   X5      768 non-null    float64\n",
      " 5   X6      768 non-null    int64  \n",
      " 6   X7      768 non-null    float64\n",
      " 7   X8      768 non-null    int64  \n",
      " 8   Y1      768 non-null    float64\n",
      " 9   Y2      768 non-null    float64\n",
      "dtypes: float64(8), int64(2)\n",
      "memory usage: 60.1 KB\n"
     ]
    }
   ],
   "source": [
    "data.info()"
   ]
  },
  {
   "cell_type": "code",
   "execution_count": 5,
   "id": "d8bba9b7",
   "metadata": {},
   "outputs": [
    {
     "data": {
      "text/html": [
       "<div>\n",
       "<style scoped>\n",
       "    .dataframe tbody tr th:only-of-type {\n",
       "        vertical-align: middle;\n",
       "    }\n",
       "\n",
       "    .dataframe tbody tr th {\n",
       "        vertical-align: top;\n",
       "    }\n",
       "\n",
       "    .dataframe thead th {\n",
       "        text-align: right;\n",
       "    }\n",
       "</style>\n",
       "<table border=\"1\" class=\"dataframe\">\n",
       "  <thead>\n",
       "    <tr style=\"text-align: right;\">\n",
       "      <th></th>\n",
       "      <th>X1</th>\n",
       "      <th>X2</th>\n",
       "      <th>X3</th>\n",
       "      <th>X4</th>\n",
       "      <th>X5</th>\n",
       "      <th>X6</th>\n",
       "      <th>X7</th>\n",
       "      <th>X8</th>\n",
       "      <th>Y1</th>\n",
       "      <th>Y2</th>\n",
       "    </tr>\n",
       "  </thead>\n",
       "  <tbody>\n",
       "    <tr>\n",
       "      <th>X1</th>\n",
       "      <td>1.000000e+00</td>\n",
       "      <td>-9.919015e-01</td>\n",
       "      <td>-2.037817e-01</td>\n",
       "      <td>-8.688234e-01</td>\n",
       "      <td>8.277473e-01</td>\n",
       "      <td>4.678592e-17</td>\n",
       "      <td>-2.960552e-15</td>\n",
       "      <td>-7.107006e-16</td>\n",
       "      <td>0.622272</td>\n",
       "      <td>0.634339</td>\n",
       "    </tr>\n",
       "    <tr>\n",
       "      <th>X2</th>\n",
       "      <td>-9.919015e-01</td>\n",
       "      <td>1.000000e+00</td>\n",
       "      <td>1.955016e-01</td>\n",
       "      <td>8.807195e-01</td>\n",
       "      <td>-8.581477e-01</td>\n",
       "      <td>-3.459372e-17</td>\n",
       "      <td>3.636925e-15</td>\n",
       "      <td>2.438409e-15</td>\n",
       "      <td>-0.658120</td>\n",
       "      <td>-0.672999</td>\n",
       "    </tr>\n",
       "    <tr>\n",
       "      <th>X3</th>\n",
       "      <td>-2.037817e-01</td>\n",
       "      <td>1.955016e-01</td>\n",
       "      <td>1.000000e+00</td>\n",
       "      <td>-2.923165e-01</td>\n",
       "      <td>2.809757e-01</td>\n",
       "      <td>-2.429499e-17</td>\n",
       "      <td>-8.567455e-17</td>\n",
       "      <td>2.067384e-16</td>\n",
       "      <td>0.455671</td>\n",
       "      <td>0.427117</td>\n",
       "    </tr>\n",
       "    <tr>\n",
       "      <th>X4</th>\n",
       "      <td>-8.688234e-01</td>\n",
       "      <td>8.807195e-01</td>\n",
       "      <td>-2.923165e-01</td>\n",
       "      <td>1.000000e+00</td>\n",
       "      <td>-9.725122e-01</td>\n",
       "      <td>-5.830058e-17</td>\n",
       "      <td>-1.759011e-15</td>\n",
       "      <td>-1.078071e-15</td>\n",
       "      <td>-0.861828</td>\n",
       "      <td>-0.862547</td>\n",
       "    </tr>\n",
       "    <tr>\n",
       "      <th>X5</th>\n",
       "      <td>8.277473e-01</td>\n",
       "      <td>-8.581477e-01</td>\n",
       "      <td>2.809757e-01</td>\n",
       "      <td>-9.725122e-01</td>\n",
       "      <td>1.000000e+00</td>\n",
       "      <td>4.492205e-17</td>\n",
       "      <td>1.489134e-17</td>\n",
       "      <td>-2.920613e-17</td>\n",
       "      <td>0.889431</td>\n",
       "      <td>0.895785</td>\n",
       "    </tr>\n",
       "    <tr>\n",
       "      <th>X6</th>\n",
       "      <td>4.678592e-17</td>\n",
       "      <td>-3.459372e-17</td>\n",
       "      <td>-2.429499e-17</td>\n",
       "      <td>-5.830058e-17</td>\n",
       "      <td>4.492205e-17</td>\n",
       "      <td>1.000000e+00</td>\n",
       "      <td>-9.406007e-16</td>\n",
       "      <td>-2.549352e-16</td>\n",
       "      <td>-0.002587</td>\n",
       "      <td>0.014290</td>\n",
       "    </tr>\n",
       "    <tr>\n",
       "      <th>X7</th>\n",
       "      <td>-2.960552e-15</td>\n",
       "      <td>3.636925e-15</td>\n",
       "      <td>-8.567455e-17</td>\n",
       "      <td>-1.759011e-15</td>\n",
       "      <td>1.489134e-17</td>\n",
       "      <td>-9.406007e-16</td>\n",
       "      <td>1.000000e+00</td>\n",
       "      <td>2.129642e-01</td>\n",
       "      <td>0.269841</td>\n",
       "      <td>0.207505</td>\n",
       "    </tr>\n",
       "    <tr>\n",
       "      <th>X8</th>\n",
       "      <td>-7.107006e-16</td>\n",
       "      <td>2.438409e-15</td>\n",
       "      <td>2.067384e-16</td>\n",
       "      <td>-1.078071e-15</td>\n",
       "      <td>-2.920613e-17</td>\n",
       "      <td>-2.549352e-16</td>\n",
       "      <td>2.129642e-01</td>\n",
       "      <td>1.000000e+00</td>\n",
       "      <td>0.087368</td>\n",
       "      <td>0.050525</td>\n",
       "    </tr>\n",
       "    <tr>\n",
       "      <th>Y1</th>\n",
       "      <td>6.222722e-01</td>\n",
       "      <td>-6.581202e-01</td>\n",
       "      <td>4.556712e-01</td>\n",
       "      <td>-8.618283e-01</td>\n",
       "      <td>8.894307e-01</td>\n",
       "      <td>-2.586534e-03</td>\n",
       "      <td>2.698410e-01</td>\n",
       "      <td>8.736759e-02</td>\n",
       "      <td>1.000000</td>\n",
       "      <td>0.975862</td>\n",
       "    </tr>\n",
       "    <tr>\n",
       "      <th>Y2</th>\n",
       "      <td>6.343391e-01</td>\n",
       "      <td>-6.729989e-01</td>\n",
       "      <td>4.271170e-01</td>\n",
       "      <td>-8.625466e-01</td>\n",
       "      <td>8.957852e-01</td>\n",
       "      <td>1.428960e-02</td>\n",
       "      <td>2.075050e-01</td>\n",
       "      <td>5.052512e-02</td>\n",
       "      <td>0.975862</td>\n",
       "      <td>1.000000</td>\n",
       "    </tr>\n",
       "  </tbody>\n",
       "</table>\n",
       "</div>"
      ],
      "text/plain": [
       "              X1            X2            X3            X4            X5  \\\n",
       "X1  1.000000e+00 -9.919015e-01 -2.037817e-01 -8.688234e-01  8.277473e-01   \n",
       "X2 -9.919015e-01  1.000000e+00  1.955016e-01  8.807195e-01 -8.581477e-01   \n",
       "X3 -2.037817e-01  1.955016e-01  1.000000e+00 -2.923165e-01  2.809757e-01   \n",
       "X4 -8.688234e-01  8.807195e-01 -2.923165e-01  1.000000e+00 -9.725122e-01   \n",
       "X5  8.277473e-01 -8.581477e-01  2.809757e-01 -9.725122e-01  1.000000e+00   \n",
       "X6  4.678592e-17 -3.459372e-17 -2.429499e-17 -5.830058e-17  4.492205e-17   \n",
       "X7 -2.960552e-15  3.636925e-15 -8.567455e-17 -1.759011e-15  1.489134e-17   \n",
       "X8 -7.107006e-16  2.438409e-15  2.067384e-16 -1.078071e-15 -2.920613e-17   \n",
       "Y1  6.222722e-01 -6.581202e-01  4.556712e-01 -8.618283e-01  8.894307e-01   \n",
       "Y2  6.343391e-01 -6.729989e-01  4.271170e-01 -8.625466e-01  8.957852e-01   \n",
       "\n",
       "              X6            X7            X8        Y1        Y2  \n",
       "X1  4.678592e-17 -2.960552e-15 -7.107006e-16  0.622272  0.634339  \n",
       "X2 -3.459372e-17  3.636925e-15  2.438409e-15 -0.658120 -0.672999  \n",
       "X3 -2.429499e-17 -8.567455e-17  2.067384e-16  0.455671  0.427117  \n",
       "X4 -5.830058e-17 -1.759011e-15 -1.078071e-15 -0.861828 -0.862547  \n",
       "X5  4.492205e-17  1.489134e-17 -2.920613e-17  0.889431  0.895785  \n",
       "X6  1.000000e+00 -9.406007e-16 -2.549352e-16 -0.002587  0.014290  \n",
       "X7 -9.406007e-16  1.000000e+00  2.129642e-01  0.269841  0.207505  \n",
       "X8 -2.549352e-16  2.129642e-01  1.000000e+00  0.087368  0.050525  \n",
       "Y1 -2.586534e-03  2.698410e-01  8.736759e-02  1.000000  0.975862  \n",
       "Y2  1.428960e-02  2.075050e-01  5.052512e-02  0.975862  1.000000  "
      ]
     },
     "execution_count": 5,
     "metadata": {},
     "output_type": "execute_result"
    }
   ],
   "source": [
    "data.corr()"
   ]
  },
  {
   "cell_type": "markdown",
   "id": "3318ab0e",
   "metadata": {},
   "source": [
    "# Plotting Heatmap"
   ]
  },
  {
   "cell_type": "code",
   "execution_count": 6,
   "id": "86c2a5ee",
   "metadata": {},
   "outputs": [
    {
     "data": {
      "image/png": "[encoded data removed]",
      "text/plain": [
       "<Figure size 842.4x595.44 with 2 Axes>"
      ]
     },
     "metadata": {},
     "output_type": "display_data"
    }
   ],
   "source": [
    "sns.set(rc={'figure.figsize':(11.7,8.27)})\n",
    "dataplot = sns.heatmap(data.corr(), annot=True)\n",
    "plt.show()"
   ]
  },
  {
   "cell_type": "code",
   "execution_count": 7,
   "id": "1a1e79e7",
   "metadata": {},
   "outputs": [
    {
     "data": {
      "text/html": [
       "<div>\n",
       "<style scoped>\n",
       "    .dataframe tbody tr th:only-of-type {\n",
       "        vertical-align: middle;\n",
       "    }\n",
       "\n",
       "    .dataframe tbody tr th {\n",
       "        vertical-align: top;\n",
       "    }\n",
       "\n",
       "    .dataframe thead th {\n",
       "        text-align: right;\n",
       "    }\n",
       "</style>\n",
       "<table border=\"1\" class=\"dataframe\">\n",
       "  <thead>\n",
       "    <tr style=\"text-align: right;\">\n",
       "      <th></th>\n",
       "      <th>X1</th>\n",
       "      <th>X2</th>\n",
       "      <th>X3</th>\n",
       "      <th>X4</th>\n",
       "      <th>X5</th>\n",
       "      <th>X6</th>\n",
       "      <th>X7</th>\n",
       "      <th>X8</th>\n",
       "      <th>Y1</th>\n",
       "      <th>Y2</th>\n",
       "    </tr>\n",
       "  </thead>\n",
       "  <tbody>\n",
       "    <tr>\n",
       "      <th>count</th>\n",
       "      <td>768.000000</td>\n",
       "      <td>768.000000</td>\n",
       "      <td>768.000000</td>\n",
       "      <td>768.000000</td>\n",
       "      <td>768.00000</td>\n",
       "      <td>768.000000</td>\n",
       "      <td>768.000000</td>\n",
       "      <td>768.00000</td>\n",
       "      <td>768.000000</td>\n",
       "      <td>768.000000</td>\n",
       "    </tr>\n",
       "    <tr>\n",
       "      <th>mean</th>\n",
       "      <td>0.764167</td>\n",
       "      <td>671.708333</td>\n",
       "      <td>318.500000</td>\n",
       "      <td>176.604167</td>\n",
       "      <td>5.25000</td>\n",
       "      <td>3.500000</td>\n",
       "      <td>0.234375</td>\n",
       "      <td>2.81250</td>\n",
       "      <td>22.307201</td>\n",
       "      <td>24.587760</td>\n",
       "    </tr>\n",
       "    <tr>\n",
       "      <th>std</th>\n",
       "      <td>0.105777</td>\n",
       "      <td>88.086116</td>\n",
       "      <td>43.626481</td>\n",
       "      <td>45.165950</td>\n",
       "      <td>1.75114</td>\n",
       "      <td>1.118763</td>\n",
       "      <td>0.133221</td>\n",
       "      <td>1.55096</td>\n",
       "      <td>10.090196</td>\n",
       "      <td>9.513306</td>\n",
       "    </tr>\n",
       "    <tr>\n",
       "      <th>min</th>\n",
       "      <td>0.620000</td>\n",
       "      <td>514.500000</td>\n",
       "      <td>245.000000</td>\n",
       "      <td>110.250000</td>\n",
       "      <td>3.50000</td>\n",
       "      <td>2.000000</td>\n",
       "      <td>0.000000</td>\n",
       "      <td>0.00000</td>\n",
       "      <td>6.010000</td>\n",
       "      <td>10.900000</td>\n",
       "    </tr>\n",
       "    <tr>\n",
       "      <th>25%</th>\n",
       "      <td>0.682500</td>\n",
       "      <td>606.375000</td>\n",
       "      <td>294.000000</td>\n",
       "      <td>140.875000</td>\n",
       "      <td>3.50000</td>\n",
       "      <td>2.750000</td>\n",
       "      <td>0.100000</td>\n",
       "      <td>1.75000</td>\n",
       "      <td>12.992500</td>\n",
       "      <td>15.620000</td>\n",
       "    </tr>\n",
       "    <tr>\n",
       "      <th>50%</th>\n",
       "      <td>0.750000</td>\n",
       "      <td>673.750000</td>\n",
       "      <td>318.500000</td>\n",
       "      <td>183.750000</td>\n",
       "      <td>5.25000</td>\n",
       "      <td>3.500000</td>\n",
       "      <td>0.250000</td>\n",
       "      <td>3.00000</td>\n",
       "      <td>18.950000</td>\n",
       "      <td>22.080000</td>\n",
       "    </tr>\n",
       "    <tr>\n",
       "      <th>75%</th>\n",
       "      <td>0.830000</td>\n",
       "      <td>741.125000</td>\n",
       "      <td>343.000000</td>\n",
       "      <td>220.500000</td>\n",
       "      <td>7.00000</td>\n",
       "      <td>4.250000</td>\n",
       "      <td>0.400000</td>\n",
       "      <td>4.00000</td>\n",
       "      <td>31.667500</td>\n",
       "      <td>33.132500</td>\n",
       "    </tr>\n",
       "    <tr>\n",
       "      <th>max</th>\n",
       "      <td>0.980000</td>\n",
       "      <td>808.500000</td>\n",
       "      <td>416.500000</td>\n",
       "      <td>220.500000</td>\n",
       "      <td>7.00000</td>\n",
       "      <td>5.000000</td>\n",
       "      <td>0.400000</td>\n",
       "      <td>5.00000</td>\n",
       "      <td>43.100000</td>\n",
       "      <td>48.030000</td>\n",
       "    </tr>\n",
       "  </tbody>\n",
       "</table>\n",
       "</div>"
      ],
      "text/plain": [
       "               X1          X2          X3          X4         X5          X6  \\\n",
       "count  768.000000  768.000000  768.000000  768.000000  768.00000  768.000000   \n",
       "mean     0.764167  671.708333  318.500000  176.604167    5.25000    3.500000   \n",
       "std      0.105777   88.086116   43.626481   45.165950    1.75114    1.118763   \n",
       "min      0.620000  514.500000  245.000000  110.250000    3.50000    2.000000   \n",
       "25%      0.682500  606.375000  294.000000  140.875000    3.50000    2.750000   \n",
       "50%      0.750000  673.750000  318.500000  183.750000    5.25000    3.500000   \n",
       "75%      0.830000  741.125000  343.000000  220.500000    7.00000    4.250000   \n",
       "max      0.980000  808.500000  416.500000  220.500000    7.00000    5.000000   \n",
       "\n",
       "               X7         X8          Y1          Y2  \n",
       "count  768.000000  768.00000  768.000000  768.000000  \n",
       "mean     0.234375    2.81250   22.307201   24.587760  \n",
       "std      0.133221    1.55096   10.090196    9.513306  \n",
       "min      0.000000    0.00000    6.010000   10.900000  \n",
       "25%      0.100000    1.75000   12.992500   15.620000  \n",
       "50%      0.250000    3.00000   18.950000   22.080000  \n",
       "75%      0.400000    4.00000   31.667500   33.132500  \n",
       "max      0.400000    5.00000   43.100000   48.030000  "
      ]
     },
     "execution_count": 7,
     "metadata": {},
     "output_type": "execute_result"
    }
   ],
   "source": [
    "data.describe()"
   ]
  },
  {
   "cell_type": "code",
   "execution_count": 8,
   "id": "f40b5188",
   "metadata": {},
   "outputs": [
    {
     "data": {
      "text/plain": [
       "X1    0\n",
       "X2    0\n",
       "X3    0\n",
       "X4    0\n",
       "X5    0\n",
       "X6    0\n",
       "X7    0\n",
       "X8    0\n",
       "Y1    0\n",
       "Y2    0\n",
       "dtype: int64"
      ]
     },
     "execution_count": 8,
     "metadata": {},
     "output_type": "execute_result"
    }
   ],
   "source": [
    "data.isnull().sum()"
   ]
  },
  {
   "cell_type": "code",
   "execution_count": 9,
   "id": "e6c48cf2",
   "metadata": {},
   "outputs": [],
   "source": [
    "# Data set is free of any null values. We are good to go.\n"
   ]
  },
  {
   "cell_type": "code",
   "execution_count": 10,
   "id": "e5a573bf",
   "metadata": {},
   "outputs": [
    {
     "data": {
      "text/plain": [
       "0"
      ]
     },
     "execution_count": 10,
     "metadata": {},
     "output_type": "execute_result"
    }
   ],
   "source": [
    "data.duplicated().sum()"
   ]
  },
  {
   "cell_type": "code",
   "execution_count": 11,
   "id": "531f4a40",
   "metadata": {},
   "outputs": [],
   "source": [
    "# Data set is devoid of duplicated values."
   ]
  },
  {
   "cell_type": "code",
   "execution_count": 12,
   "id": "c83eea4c",
   "metadata": {},
   "outputs": [],
   "source": [
    "# choosing x and y values:\n",
    "# we have 2 y values - Y1 & Y2 as targets. "
   ]
  },
  {
   "cell_type": "code",
   "execution_count": 13,
   "id": "89c7dac2",
   "metadata": {},
   "outputs": [],
   "source": [
    "X =data.iloc[:, 0:8].values"
   ]
  },
  {
   "cell_type": "code",
   "execution_count": 14,
   "id": "8fa4501a",
   "metadata": {},
   "outputs": [
    {
     "data": {
      "text/plain": [
       "array([[9.800e-01, 5.145e+02, 2.940e+02, ..., 2.000e+00, 0.000e+00,\n",
       "        0.000e+00],\n",
       "       [9.800e-01, 5.145e+02, 2.940e+02, ..., 3.000e+00, 0.000e+00,\n",
       "        0.000e+00],\n",
       "       [9.800e-01, 5.145e+02, 2.940e+02, ..., 4.000e+00, 0.000e+00,\n",
       "        0.000e+00],\n",
       "       ...,\n",
       "       [6.200e-01, 8.085e+02, 3.675e+02, ..., 3.000e+00, 4.000e-01,\n",
       "        5.000e+00],\n",
       "       [6.200e-01, 8.085e+02, 3.675e+02, ..., 4.000e+00, 4.000e-01,\n",
       "        5.000e+00],\n",
       "       [6.200e-01, 8.085e+02, 3.675e+02, ..., 5.000e+00, 4.000e-01,\n",
       "        5.000e+00]])"
      ]
     },
     "execution_count": 14,
     "metadata": {},
     "output_type": "execute_result"
    }
   ],
   "source": [
    "X"
   ]
  },
  {
   "cell_type": "code",
   "execution_count": 15,
   "id": "1bcbeaba",
   "metadata": {},
   "outputs": [
    {
     "data": {
      "text/plain": [
       "(768, 8)"
      ]
     },
     "execution_count": 15,
     "metadata": {},
     "output_type": "execute_result"
    }
   ],
   "source": [
    "X.shape"
   ]
  },
  {
   "cell_type": "code",
   "execution_count": 16,
   "id": "c10a29e5",
   "metadata": {},
   "outputs": [],
   "source": [
    "Y1 = data.iloc[:, 8].values"
   ]
  },
  {
   "cell_type": "code",
   "execution_count": 17,
   "id": "2a81637c",
   "metadata": {},
   "outputs": [
    {
     "data": {
      "text/plain": [
       "(768,)"
      ]
     },
     "execution_count": 17,
     "metadata": {},
     "output_type": "execute_result"
    }
   ],
   "source": [
    "Y1.shape"
   ]
  },
  {
   "cell_type": "code",
   "execution_count": 18,
   "id": "112363a5",
   "metadata": {},
   "outputs": [],
   "source": [
    "Y2 = data.iloc[:, 9].values"
   ]
  },
  {
   "cell_type": "code",
   "execution_count": 19,
   "id": "eb18483c",
   "metadata": {},
   "outputs": [
    {
     "data": {
      "text/plain": [
       "array([15.55, 15.55, 15.55, 15.55, 20.84, 21.46, 20.71, 19.68, 19.5 ,\n",
       "       19.95, 19.34, 18.31, 17.05, 17.41, 16.95, 15.98, 28.52, 29.9 ,\n",
       "       29.63, 28.75, 24.77, 23.93, 24.77, 23.93,  6.07,  6.05,  6.01,\n",
       "        6.04,  6.37,  6.4 ,  6.37,  6.4 ,  6.85,  6.79,  6.77,  6.81,\n",
       "        7.18,  7.1 ,  7.1 ,  7.1 , 10.85, 10.54, 10.77, 10.56,  8.6 ,\n",
       "        8.49,  8.45,  8.5 , 24.58, 24.63, 24.63, 24.59, 29.03, 29.87,\n",
       "       29.14, 28.09, 26.28, 26.91, 26.37, 25.27, 23.53, 24.03, 23.54,\n",
       "       22.58, 35.56, 37.12, 36.9 , 35.94, 32.96, 32.12, 32.94, 32.21,\n",
       "       10.36, 10.43, 10.36, 10.39, 10.71, 10.8 , 10.7 , 10.75, 11.11,\n",
       "       11.13, 11.09, 11.16, 11.68, 11.69, 11.7 , 11.69, 15.41, 15.2 ,\n",
       "       15.42, 15.21, 12.96, 12.97, 12.93, 13.02, 24.29, 24.31, 24.13,\n",
       "       24.25, 28.88, 29.68, 28.83, 27.9 , 26.48, 27.02, 26.33, 25.36,\n",
       "       23.75, 24.23, 23.67, 22.79, 35.65, 37.26, 36.97, 36.03, 33.16,\n",
       "       32.4 , 33.12, 32.41, 10.42, 10.46, 10.32, 10.45, 10.64, 10.72,\n",
       "       10.55, 10.68, 11.45, 11.46, 11.32, 11.49, 11.45, 11.42, 11.33,\n",
       "       11.43, 15.41, 15.18, 15.34, 15.19, 12.88, 13.  , 12.97, 13.04,\n",
       "       24.28, 24.4 , 24.11, 24.35, 28.07, 29.01, 29.62, 29.05, 25.41,\n",
       "       26.47, 26.89, 26.46, 22.93, 23.84, 24.17, 23.87, 35.78, 35.48,\n",
       "       36.97, 36.7 , 32.52, 33.28, 32.33, 33.24, 10.39, 10.34, 10.35,\n",
       "       10.38, 10.77, 10.68, 10.68, 10.7 , 11.22, 11.16, 11.1 , 11.14,\n",
       "       11.59, 11.6 , 11.53, 11.61, 15.16, 15.36, 15.12, 15.36, 12.68,\n",
       "       12.63, 12.71, 12.73, 24.38, 24.23, 24.04, 24.32, 29.06, 28.05,\n",
       "       28.86, 29.79, 26.44, 25.37, 26.33, 27.03, 23.8 , 22.8 , 23.59,\n",
       "       24.24, 36.86, 35.89, 35.45, 37.1 , 33.08, 32.38, 33.09, 32.31,\n",
       "       10.08, 10.15, 10.07, 10.14, 10.66, 10.68, 10.53, 10.72, 11.18,\n",
       "       11.22, 11.07, 11.2 , 11.44, 11.42, 11.33, 11.43, 15.4 , 15.19,\n",
       "       15.32, 15.16, 12.85, 13.04, 13.  , 13.  , 24.35, 24.33, 24.03,\n",
       "       24.26, 29.83, 29.08, 28.03, 29.02, 27.03, 26.45, 25.36, 26.45,\n",
       "       24.37, 23.89, 22.89, 23.86, 37.03, 36.71, 36.77, 35.48, 32.31,\n",
       "       33.21, 32.46, 33.27, 10.47, 10.37, 10.34, 10.39, 10.78, 10.7 ,\n",
       "       10.67, 13.69, 11.21, 11.14, 11.11, 11.16, 11.38, 11.34, 11.22,\n",
       "       11.34, 15.16, 15.37, 15.12, 15.36, 12.59, 12.74, 12.8 , 12.62,\n",
       "       28.15, 28.15, 28.37, 28.41, 32.68, 33.48, 32.84, 32.  , 29.54,\n",
       "       30.05, 29.6 , 28.66, 26.84, 27.27, 26.97, 26.19, 38.67, 40.03,\n",
       "       39.86, 39.04, 36.96, 36.13, 36.91, 36.43, 12.43, 12.5 , 12.41,\n",
       "       12.45, 12.57, 12.65, 12.57, 12.63, 12.78, 12.93, 12.73, 12.72,\n",
       "       13.17, 13.18, 13.17, 13.18, 17.5 , 17.35, 17.52, 17.37, 15.09,\n",
       "       15.12, 15.08, 15.16, 28.67, 28.57, 28.18, 28.6 , 32.46, 33.27,\n",
       "       32.33, 31.66, 29.34, 29.87, 29.27, 28.4 , 25.74, 25.98, 25.38,\n",
       "       24.94, 38.57, 40.19, 39.97, 38.98, 36.95, 36.28, 36.86, 36.45,\n",
       "       12.35, 12.45, 12.16, 12.3 , 12.33, 12.29, 12.2 , 12.49, 12.85,\n",
       "       12.87, 12.73, 12.95, 13.05, 12.93, 12.77, 13.  , 17.14, 16.84,\n",
       "       17.02, 17.11, 14.34, 14.66, 14.6 , 14.6 , 28.67, 28.56, 28.17,\n",
       "       28.63, 31.63, 32.4 , 32.68, 32.29, 28.4 , 29.4 , 29.43, 29.07,\n",
       "       24.7 , 25.48, 25.37, 25.17, 39.04, 38.35, 39.81, 39.83, 35.99,\n",
       "       36.59, 35.64, 36.52, 11.8 , 12.03, 11.98, 11.69, 12.41, 12.28,\n",
       "       12.1 , 12.19, 12.34, 12.46, 12.31, 12.12, 12.97, 13.01, 12.74,\n",
       "       12.84, 16.83, 16.93, 16.66, 16.86, 13.91, 14.34, 13.95, 13.99,\n",
       "       28.7 , 28.55, 28.15, 28.62, 32.67, 31.69, 32.07, 33.28, 29.47,\n",
       "       28.42, 29.08, 29.88, 25.66, 24.96, 25.43, 26.  , 40.  , 38.84,\n",
       "       38.33, 40.12, 36.95, 36.45, 36.81, 36.26, 12.32, 12.3 , 12.18,\n",
       "       12.43, 12.36, 12.49, 12.17, 12.28, 12.91, 12.95, 12.67, 12.86,\n",
       "       12.95, 13.  , 12.86, 12.92, 16.99, 16.69, 16.56, 16.62, 14.33,\n",
       "       14.61, 14.61, 14.65, 28.69, 28.58, 28.15, 28.61, 33.13, 32.31,\n",
       "       31.53, 32.46, 29.71, 29.09, 28.31, 29.39, 25.7 , 25.17, 24.6 ,\n",
       "       25.49, 39.89, 39.83, 39.01, 38.65, 35.69, 36.64, 36.06, 36.7 ,\n",
       "       12.12, 11.67, 11.64, 12.02, 12.27, 12.19, 12.25, 12.27, 12.47,\n",
       "       12.12, 12.18, 12.47, 12.93, 12.82, 12.78, 13.02, 16.73, 16.86,\n",
       "       16.76, 16.92, 13.68, 13.99, 14.16, 13.86, 32.26, 32.26, 32.49,\n",
       "       32.53, 36.47, 37.24, 36.66, 35.96, 31.89, 32.39, 32.09, 31.29,\n",
       "       29.22, 29.91, 29.53, 28.65, 41.4 , 42.62, 42.5 , 41.67, 40.78,\n",
       "       39.97, 40.71, 40.43, 14.52, 14.61, 14.5 , 14.55, 14.51, 14.6 ,\n",
       "       14.5 , 14.58, 14.51, 14.7 , 14.42, 14.42, 15.23, 15.23, 15.23,\n",
       "       15.23, 19.52, 19.36, 19.48, 19.42, 15.09, 17.17, 17.14, 17.14,\n",
       "       32.82, 32.71, 32.24, 32.72, 35.84, 36.57, 36.06, 35.69, 32.48,\n",
       "       32.74, 32.13, 31.64, 28.95, 29.49, 28.64, 28.01, 41.64, 43.1 ,\n",
       "       42.74, 41.92, 40.78, 40.15, 40.57, 40.42, 14.54, 14.45, 14.18,\n",
       "       14.5 , 14.7 , 14.66, 14.4 , 14.71, 14.75, 14.71, 14.33, 14.62,\n",
       "       15.34, 15.29, 15.09, 15.3 , 19.2 , 18.88, 18.9 , 19.12, 16.76,\n",
       "       17.23, 17.26, 17.15, 32.82, 32.69, 32.23, 32.75, 34.24, 34.95,\n",
       "       35.05, 34.29, 31.28, 32.12, 32.05, 31.84, 28.67, 29.67, 29.47,\n",
       "       28.91, 41.26, 41.3 , 42.49, 42.08, 39.32, 39.84, 38.89, 39.68,\n",
       "       13.97, 14.22, 14.1 , 13.78, 14.07, 14.03, 13.94, 13.86, 14.32,\n",
       "       14.56, 14.33, 14.08, 15.16, 15.18, 14.72, 14.9 , 18.48, 18.71,\n",
       "       18.48, 18.46, 16.47, 16.35, 16.55, 16.74, 32.85, 32.67, 32.21,\n",
       "       32.74, 36.45, 35.73, 35.4 , 36.57, 32.38, 31.66, 32.15, 32.75,\n",
       "       28.93, 28.05, 28.64, 29.52, 42.77, 41.73, 41.32, 42.96, 40.68,\n",
       "       40.4 , 40.6 , 40.11, 14.37, 14.48, 14.32, 14.44, 14.6 , 14.7 ,\n",
       "       14.47, 14.66, 14.54, 14.62, 14.53, 14.71, 15.34, 15.29, 15.09,\n",
       "       15.3 , 19.06, 19.13, 19.  , 18.84, 16.44, 16.9 , 16.94, 16.77,\n",
       "       32.84, 32.72, 32.21, 32.73, 35.67, 35.01, 34.72, 35.24, 32.31,\n",
       "       31.81, 31.12, 32.06, 30.  , 29.5 , 29.06, 29.92, 42.11, 41.96,\n",
       "       41.09, 40.79, 38.82, 39.72, 39.31, 39.86, 14.41, 14.19, 14.17,\n",
       "       14.39, 12.43, 12.63, 12.76, 12.42, 14.12, 14.28, 14.37, 14.21,\n",
       "       14.96, 14.92, 14.92, 15.16, 17.69, 18.19, 18.16, 17.88, 16.54,\n",
       "       16.44, 16.48, 16.64])"
      ]
     },
     "execution_count": 19,
     "metadata": {},
     "output_type": "execute_result"
    }
   ],
   "source": [
    "Y1"
   ]
  },
  {
   "cell_type": "code",
   "execution_count": 20,
   "id": "f5ad954b",
   "metadata": {},
   "outputs": [
    {
     "data": {
      "text/plain": [
       "array([21.33, 21.33, 21.33, 21.33, 28.28, 25.38, 25.16, 29.6 , 27.3 ,\n",
       "       21.97, 23.49, 27.87, 23.77, 21.46, 21.16, 24.93, 37.73, 31.27,\n",
       "       30.93, 39.44, 29.79, 29.68, 29.79, 29.4 , 10.9 , 11.19, 10.94,\n",
       "       11.17, 11.27, 11.72, 11.29, 11.67, 11.74, 12.05, 11.73, 11.93,\n",
       "       12.4 , 12.23, 12.4 , 12.14, 16.78, 16.8 , 16.75, 16.67, 12.07,\n",
       "       12.22, 12.08, 12.04, 26.47, 26.37, 26.44, 26.29, 32.92, 29.87,\n",
       "       29.58, 34.33, 30.89, 25.6 , 27.03, 31.73, 27.31, 24.91, 24.61,\n",
       "       28.51, 41.68, 35.28, 34.43, 43.33, 33.87, 34.07, 34.14, 33.67,\n",
       "       13.43, 13.71, 13.48, 13.7 , 13.8 , 14.28, 13.87, 14.27, 14.28,\n",
       "       14.61, 14.3 , 14.45, 13.9 , 13.72, 13.88, 13.65, 19.37, 19.43,\n",
       "       19.34, 19.32, 14.34, 14.5 , 14.33, 14.27, 25.95, 25.63, 26.13,\n",
       "       25.89, 32.54, 29.44, 29.36, 34.2 , 30.91, 25.63, 27.36, 31.9 ,\n",
       "       27.38, 25.02, 24.8 , 28.79, 41.07, 34.62, 33.87, 42.86, 33.91,\n",
       "       34.07, 34.17, 33.78, 13.39, 13.72, 13.57, 13.79, 13.67, 14.11,\n",
       "       13.8 , 14.21, 13.2 , 13.54, 13.32, 13.51, 14.86, 14.75, 15.  ,\n",
       "       14.74, 19.23, 19.34, 19.32, 19.3 , 14.37, 14.57, 14.27, 14.24,\n",
       "       25.68, 26.02, 25.84, 26.14, 34.14, 32.85, 30.08, 29.67, 31.73,\n",
       "       31.01, 25.9 , 27.4 , 28.68, 27.54, 25.35, 24.93, 43.12, 41.22,\n",
       "       35.1 , 34.29, 33.85, 34.11, 34.48, 34.5 , 13.6 , 13.36, 13.65,\n",
       "       13.49, 14.14, 13.77, 14.3 , 13.87, 14.44, 14.27, 14.67, 14.4 ,\n",
       "       13.46, 13.7 , 13.59, 13.83, 19.14, 19.18, 19.37, 19.29, 14.09,\n",
       "       14.23, 14.14, 13.89, 25.91, 25.72, 26.18, 25.87, 29.34, 33.91,\n",
       "       32.83, 29.92, 27.17, 31.76, 31.06, 25.81, 24.61, 28.61, 27.57,\n",
       "       25.16, 34.25, 43.3 , 41.86, 35.29, 34.11, 33.62, 33.89, 34.05,\n",
       "       13.2 , 13.36, 13.21, 13.53, 13.67, 14.12, 13.79, 14.2 , 14.29,\n",
       "       14.49, 14.42, 14.73, 14.86, 14.67, 15.  , 14.83, 19.24, 19.25,\n",
       "       19.42, 19.48, 14.37, 14.34, 14.28, 14.47, 25.64, 25.98, 25.88,\n",
       "       26.18, 29.82, 29.52, 34.45, 33.01, 25.82, 27.33, 32.04, 31.28,\n",
       "       25.11, 24.77, 28.88, 27.69, 34.99, 34.18, 43.14, 41.26, 34.25,\n",
       "       34.35, 33.64, 33.88, 13.65, 13.44, 13.72, 13.5 , 14.18, 13.75,\n",
       "       14.26, 13.89, 14.55, 14.28, 14.46, 14.39, 14.54, 14.81, 14.65,\n",
       "       14.87, 19.24, 19.18, 19.26, 19.29, 14.24, 13.97, 13.99, 14.15,\n",
       "       29.79, 29.79, 29.28, 29.49, 36.12, 33.17, 32.71, 37.58, 33.98,\n",
       "       28.61, 30.12, 34.73, 30.17, 27.84, 27.25, 31.39, 43.8 , 37.81,\n",
       "       36.85, 45.52, 36.85, 37.58, 37.45, 36.62, 15.19, 15.5 , 15.28,\n",
       "       15.5 , 15.42, 15.85, 15.44, 15.81, 15.21, 15.63, 15.48, 15.78,\n",
       "       16.39, 16.27, 16.39, 16.19, 21.13, 21.19, 21.09, 21.08, 15.77,\n",
       "       15.95, 15.77, 15.76, 29.62, 29.69, 30.18, 30.02, 35.56, 32.64,\n",
       "       32.77, 37.72, 33.37, 27.89, 29.9 , 34.52, 28.27, 26.96, 26.72,\n",
       "       29.88, 43.86, 37.41, 36.77, 45.97, 36.87, 37.35, 37.28, 36.81,\n",
       "       14.73, 15.1 , 15.18, 15.44, 14.91, 15.4 , 14.94, 15.32, 15.52,\n",
       "       15.85, 15.66, 15.99, 15.89, 15.85, 16.22, 15.87, 20.47, 20.56,\n",
       "       20.48, 20.43, 15.32, 15.64, 15.14, 15.3 , 29.43, 29.78, 30.1 ,\n",
       "       30.19, 36.35, 35.1 , 32.83, 32.46, 33.52, 32.93, 28.38, 29.82,\n",
       "       28.77, 27.76, 26.95, 26.41, 45.13, 43.66, 37.76, 36.87, 36.07,\n",
       "       36.44, 37.28, 37.29, 14.49, 13.79, 14.72, 14.76, 14.92, 14.74,\n",
       "       15.57, 14.94, 14.92, 14.38, 15.44, 15.17, 15.53, 15.8 , 16.14,\n",
       "       16.26, 19.87, 20.03, 20.46, 20.28, 14.89, 14.96, 14.89, 14.35,\n",
       "       29.61, 29.59, 30.19, 30.12, 32.12, 37.12, 36.16, 33.16, 29.45,\n",
       "       34.19, 33.93, 28.31, 26.3 , 29.43, 28.76, 27.34, 36.26, 45.48,\n",
       "       44.16, 37.26, 37.2 , 36.76, 37.05, 37.51, 14.92, 15.24, 15.03,\n",
       "       15.35, 14.67, 15.09, 15.2 , 15.64, 15.37, 15.73, 15.83, 16.13,\n",
       "       15.95, 15.59, 16.17, 16.14, 19.65, 19.76, 20.37, 19.9 , 15.41,\n",
       "       15.56, 15.07, 15.38, 29.53, 29.77, 30.  , 30.2 , 32.25, 32.  ,\n",
       "       37.19, 35.62, 28.02, 29.43, 34.15, 33.47, 26.53, 26.08, 29.31,\n",
       "       28.14, 37.54, 36.66, 45.28, 43.73, 36.93, 37.01, 35.73, 36.15,\n",
       "       14.48, 14.58, 14.81, 14.03, 15.27, 14.71, 15.23, 14.97, 15.14,\n",
       "       14.97, 15.22, 14.6 , 15.83, 16.03, 15.8 , 16.06, 20.13, 20.01,\n",
       "       20.19, 20.29, 15.19, 14.61, 14.61, 14.75, 33.37, 33.34, 32.83,\n",
       "       33.04, 39.28, 36.38, 35.92, 40.99, 35.99, 30.66, 31.7 , 36.73,\n",
       "       31.71, 29.13, 28.99, 33.54, 45.29, 39.07, 38.35, 46.94, 39.55,\n",
       "       40.85, 40.63, 39.48, 16.94, 17.25, 17.03, 17.25, 17.1 , 17.51,\n",
       "       17.12, 17.47, 16.5 , 17.  , 16.87, 17.2 , 18.14, 18.03, 18.14,\n",
       "       17.95, 22.72, 22.73, 22.72, 22.53, 17.2 , 17.21, 17.15, 17.2 ,\n",
       "       32.96, 33.13, 33.94, 33.78, 38.35, 35.39, 34.94, 40.66, 35.48,\n",
       "       30.53, 32.28, 36.86, 30.34, 27.93, 28.95, 32.92, 45.59, 39.41,\n",
       "       38.84, 48.03, 39.48, 40.4 , 40.47, 39.7 , 16.43, 16.93, 16.99,\n",
       "       17.03, 16.77, 17.37, 17.27, 17.51, 16.44, 17.01, 17.23, 17.22,\n",
       "       17.85, 17.89, 18.36, 18.15, 21.72, 22.07, 22.09, 21.93, 17.36,\n",
       "       17.38, 16.86, 16.99, 32.78, 33.24, 33.86, 34.  , 37.26, 35.04,\n",
       "       33.82, 33.31, 35.22, 34.7 , 30.11, 31.6 , 32.43, 30.65, 29.77,\n",
       "       29.64, 46.44, 44.18, 38.81, 38.23, 38.17, 38.48, 39.66, 40.1 ,\n",
       "       16.08, 15.39, 16.57, 16.6 , 16.11, 15.47, 16.7 , 16.1 , 16.35,\n",
       "       15.84, 16.99, 17.02, 17.04, 17.63, 18.1 , 18.22, 20.78, 20.72,\n",
       "       21.54, 21.53, 16.9 , 17.14, 16.56, 16.  , 32.95, 33.06, 33.95,\n",
       "       33.88, 33.98, 39.92, 39.22, 36.1 , 31.53, 36.2 , 36.21, 31.  ,\n",
       "       28.2 , 32.35, 31.14, 28.43, 38.33, 47.59, 46.23, 39.56, 40.36,\n",
       "       39.67, 39.85, 40.77, 16.61, 16.74, 16.9 , 17.32, 16.85, 17.2 ,\n",
       "       17.23, 17.74, 16.81, 16.88, 16.9 , 17.39, 17.86, 17.82, 18.36,\n",
       "       18.24, 21.68, 21.54, 22.25, 22.49, 17.1 , 16.79, 16.58, 16.79,\n",
       "       32.88, 33.23, 33.76, 34.01, 33.94, 33.14, 38.79, 37.27, 29.69,\n",
       "       31.2 , 36.26, 35.71, 29.93, 29.56, 33.84, 32.54, 38.56, 37.7 ,\n",
       "       47.01, 44.87, 39.37, 39.8 , 37.79, 38.18, 16.69, 16.62, 16.94,\n",
       "       16.7 , 15.59, 14.58, 15.33, 15.31, 16.63, 15.87, 16.54, 16.74,\n",
       "       17.64, 17.79, 17.55, 18.06, 20.82, 20.21, 20.71, 21.4 , 16.88,\n",
       "       17.11, 16.61, 16.03])"
      ]
     },
     "execution_count": 20,
     "metadata": {},
     "output_type": "execute_result"
    }
   ],
   "source": [
    "Y2"
   ]
  },
  {
   "cell_type": "code",
   "execution_count": 21,
   "id": "990e7b10",
   "metadata": {},
   "outputs": [],
   "source": [
    "# We have to create seperate models for Y1 & Y2"
   ]
  },
  {
   "cell_type": "code",
   "execution_count": 22,
   "id": "c94ececc",
   "metadata": {},
   "outputs": [],
   "source": [
    "from sklearn.preprocessing import StandardScaler"
   ]
  },
  {
   "cell_type": "code",
   "execution_count": 23,
   "id": "f83fe47e",
   "metadata": {},
   "outputs": [],
   "source": [
    "sc = StandardScaler()"
   ]
  },
  {
   "cell_type": "code",
   "execution_count": 24,
   "id": "e5a5c99e",
   "metadata": {},
   "outputs": [
    {
     "data": {
      "text/plain": [
       "array([[ 2.04177671, -1.78587489, -0.56195149, ..., -1.34164079,\n",
       "        -1.76044698, -1.81457514],\n",
       "       [ 2.04177671, -1.78587489, -0.56195149, ..., -0.4472136 ,\n",
       "        -1.76044698, -1.81457514],\n",
       "       [ 2.04177671, -1.78587489, -0.56195149, ...,  0.4472136 ,\n",
       "        -1.76044698, -1.81457514],\n",
       "       ...,\n",
       "       [-1.36381225,  1.55394308,  1.12390297, ..., -0.4472136 ,\n",
       "         1.2440492 ,  1.41133622],\n",
       "       [-1.36381225,  1.55394308,  1.12390297, ...,  0.4472136 ,\n",
       "         1.2440492 ,  1.41133622],\n",
       "       [-1.36381225,  1.55394308,  1.12390297, ...,  1.34164079,\n",
       "         1.2440492 ,  1.41133622]])"
      ]
     },
     "execution_count": 24,
     "metadata": {},
     "output_type": "execute_result"
    }
   ],
   "source": [
    "sc.fit_transform(X)"
   ]
  },
  {
   "cell_type": "code",
   "execution_count": 25,
   "id": "cdd4f23c",
   "metadata": {},
   "outputs": [],
   "source": [
    "X_train, X_test, Y1_train, Y1_test = train_test_split(X,Y1, test_size=0.20, random_state=0)"
   ]
  },
  {
   "cell_type": "code",
   "execution_count": 26,
   "id": "f63b5268",
   "metadata": {},
   "outputs": [],
   "source": [
    "from sklearn.ensemble import RandomForestRegressor"
   ]
  },
  {
   "cell_type": "markdown",
   "id": "5805e0e3",
   "metadata": {},
   "source": [
    "# Model for Y1"
   ]
  },
  {
   "cell_type": "code",
   "execution_count": 27,
   "id": "bc047b39",
   "metadata": {},
   "outputs": [],
   "source": [
    "Y1_rfr = RandomForestRegressor()"
   ]
  },
  {
   "cell_type": "code",
   "execution_count": 28,
   "id": "3fe8364b",
   "metadata": {},
   "outputs": [
    {
     "data": {
      "text/plain": [
       "RandomForestRegressor()"
      ]
     },
     "execution_count": 28,
     "metadata": {},
     "output_type": "execute_result"
    }
   ],
   "source": [
    "Y1_rfr.fit(X_train, Y1_train)"
   ]
  },
  {
   "cell_type": "code",
   "execution_count": 29,
   "id": "eb1d96c5",
   "metadata": {},
   "outputs": [],
   "source": [
    "Y1_predict = Y1_rfr.predict(X_test)"
   ]
  },
  {
   "cell_type": "code",
   "execution_count": 30,
   "id": "c1fd3e86",
   "metadata": {},
   "outputs": [
    {
     "data": {
      "text/plain": [
       "array([15.1757, 10.4133, 36.1471, 17.4549, 32.447 , 29.1298, 28.373 ,\n",
       "       29.1048, 28.7951, 23.627 ,  6.3626, 42.3601, 11.3682, 42.1265,\n",
       "       41.2074, 26.174 , 10.6891, 29.2723, 14.3726, 12.4045, 12.7717,\n",
       "       32.6779, 10.667 , 39.2676,  6.0446, 14.635 , 12.9014, 13.939 ,\n",
       "       10.7053, 39.7477, 12.7346, 12.9002, 41.8043, 12.953 , 28.5633,\n",
       "       36.8568, 14.1756, 36.8239, 17.1083, 10.4044, 11.5346, 39.8142,\n",
       "       14.5665, 25.7789, 19.2221, 24.2896, 10.6992, 12.7013, 28.3976,\n",
       "       31.8839, 32.5351, 12.9458, 33.0255, 14.9908, 36.8487, 10.3904,\n",
       "       17.3974, 27.0225, 38.6579, 14.5537, 15.0243, 12.3808, 32.4871,\n",
       "       10.3185, 12.487 , 12.1161, 39.3385, 11.1758, 26.6695, 39.1578,\n",
       "       32.6379, 10.6762, 23.4568, 17.0497, 15.236 , 26.049 , 32.5471,\n",
       "       39.0765, 32.5078, 14.5686, 36.024 , 28.7522, 11.6692, 14.18  ,\n",
       "       28.9406, 25.9695, 24.1097, 29.2813, 12.8712, 17.038 , 14.4472,\n",
       "       26.6712, 12.428 , 24.3795, 40.4564, 16.9567, 28.9397, 14.6294,\n",
       "        7.1682, 36.7285, 36.3305, 23.8568, 19.4343, 32.5289, 10.3246,\n",
       "       29.0254, 41.3611, 12.8958, 12.4813, 17.3373, 18.2014, 32.5925,\n",
       "       32.2541, 15.1706, 12.1133, 15.1815, 11.395 , 36.4819, 26.5363,\n",
       "       39.8641, 35.4437, 12.3212, 12.4663, 36.3402, 12.3145, 39.9976,\n",
       "       14.4669, 28.3545, 12.2606, 31.8321, 32.6076, 24.4467, 36.5293,\n",
       "       12.0942, 36.2059,  7.215 , 28.5151, 24.4455, 32.4952, 14.1742,\n",
       "       17.4508, 19.3556, 28.5071, 10.75  , 36.3569, 16.6189, 29.3328,\n",
       "       36.408 , 12.7451, 14.1498, 28.3353, 11.4321, 14.1414, 14.6068])"
      ]
     },
     "execution_count": 30,
     "metadata": {},
     "output_type": "execute_result"
    }
   ],
   "source": [
    "Y1_predict"
   ]
  },
  {
   "cell_type": "code",
   "execution_count": 31,
   "id": "c737235a",
   "metadata": {},
   "outputs": [
    {
     "data": {
      "text/plain": [
       "0.996880255911811"
      ]
     },
     "execution_count": 31,
     "metadata": {},
     "output_type": "execute_result"
    }
   ],
   "source": [
    "Y1_rfr.score(X_test, Y1_test)"
   ]
  },
  {
   "cell_type": "code",
   "execution_count": 32,
   "id": "9819aad3",
   "metadata": {},
   "outputs": [
    {
     "data": {
      "text/plain": [
       "0.996880255911811"
      ]
     },
     "execution_count": 32,
     "metadata": {},
     "output_type": "execute_result"
    }
   ],
   "source": [
    "r2_score(Y1_test,Y1_predict)"
   ]
  },
  {
   "cell_type": "markdown",
   "id": "80acedd4",
   "metadata": {},
   "source": [
    "# Model for Y2"
   ]
  },
  {
   "cell_type": "code",
   "execution_count": 33,
   "id": "41c037cc",
   "metadata": {},
   "outputs": [],
   "source": [
    "X2_train, X2_test, Y2_train, Y2_test = train_test_split(X,Y2,test_size=0.2, random_state=0)"
   ]
  },
  {
   "cell_type": "code",
   "execution_count": 34,
   "id": "e18e56ee",
   "metadata": {},
   "outputs": [],
   "source": [
    "Y2_rfr = RandomForestRegressor()"
   ]
  },
  {
   "cell_type": "code",
   "execution_count": 35,
   "id": "9b6d75cc",
   "metadata": {},
   "outputs": [
    {
     "data": {
      "text/plain": [
       "RandomForestRegressor()"
      ]
     },
     "execution_count": 35,
     "metadata": {},
     "output_type": "execute_result"
    }
   ],
   "source": [
    "Y2_rfr.fit(X2_train, Y2_train)"
   ]
  },
  {
   "cell_type": "code",
   "execution_count": 36,
   "id": "fe4d418c",
   "metadata": {},
   "outputs": [],
   "source": [
    "Y2_predict = Y2_rfr.predict(X2_test)"
   ]
  },
  {
   "cell_type": "code",
   "execution_count": 37,
   "id": "d08b2237",
   "metadata": {},
   "outputs": [
    {
     "data": {
      "text/plain": [
       "array([17.662 , 13.6082, 37.3948, 22.9688, 32.5838, 29.7798, 29.6808,\n",
       "       30.4833, 33.9229, 27.0338, 11.4782, 40.8107, 14.7163, 41.3523,\n",
       "       45.076 , 27.6381, 14.1999, 29.7831, 14.7442, 15.0816, 15.6319,\n",
       "       32.476 , 13.8658, 42.871 , 11.0931, 17.2378, 14.0457, 16.4704,\n",
       "       14.1516, 39.0053, 14.2492, 15.9869, 43.0457, 15.9625, 29.7226,\n",
       "       36.7344, 15.9912, 36.878 , 16.8659, 16.8402, 13.9174, 38.2552,\n",
       "       17.1563, 27.2459, 25.313 , 25.7022, 14.1655, 15.8798, 32.4904,\n",
       "       35.0878, 33.0045, 14.3795, 34.0865, 17.6712, 36.8773, 13.6091,\n",
       "       22.0248, 27.5642, 41.7823, 17.1445, 18.1379, 14.8936, 32.7781,\n",
       "       13.4125, 15.266 , 14.8087, 43.7225, 14.2652, 27.653 , 40.3283,\n",
       "       33.505 , 14.1726, 27.2555, 17.0572, 19.3646, 27.2516, 32.6497,\n",
       "       42.8478, 32.7286, 16.8206, 37.135 , 31.5245, 14.1385, 14.8105,\n",
       "       32.3499, 27.2236, 26.0816, 33.2168, 14.2583, 16.9241, 17.0527,\n",
       "       27.076 , 15.1863, 25.8275, 39.9411, 17.2379, 30.4282, 16.5924,\n",
       "       12.377 , 36.8864, 37.6094, 27.1294, 23.9349, 33.6553, 13.497 ,\n",
       "       33.6314, 42.4256, 16.1694, 15.1283, 22.181 , 20.5617, 33.9778,\n",
       "       32.0915, 19.3235, 15.3315, 19.2858, 14.7424, 35.6244, 27.9584,\n",
       "       39.211 , 37.2884, 15.0703, 15.3128, 35.3931, 15.1958, 39.8089,\n",
       "       17.0933, 29.8691, 14.8913, 32.5229, 33.8379, 25.4303, 38.315 ,\n",
       "       14.9243, 36.5003, 12.4158, 30.9796, 25.6022, 33.9017, 15.8993,\n",
       "       21.0534, 22.4545, 33.2661, 13.9805, 38.5676, 16.6815, 30.6996,\n",
       "       37.2446, 15.4554, 15.2791, 30.2507, 14.6917, 14.5996, 15.4965])"
      ]
     },
     "execution_count": 37,
     "metadata": {},
     "output_type": "execute_result"
    }
   ],
   "source": [
    "Y2_predict"
   ]
  },
  {
   "cell_type": "code",
   "execution_count": 38,
   "id": "08dd4e23",
   "metadata": {},
   "outputs": [
    {
     "data": {
      "text/plain": [
       "0.9646597527242391"
      ]
     },
     "execution_count": 38,
     "metadata": {},
     "output_type": "execute_result"
    }
   ],
   "source": [
    "Y2_rfr.score(X2_test, Y2_test)"
   ]
  },
  {
   "cell_type": "code",
   "execution_count": 39,
   "id": "f7dbdc1f",
   "metadata": {},
   "outputs": [
    {
     "data": {
      "text/plain": [
       "0.9646597527242391"
      ]
     },
     "execution_count": 39,
     "metadata": {},
     "output_type": "execute_result"
    }
   ],
   "source": [
    "r2_score(Y2_test, Y2_predict)"
   ]
  },
  {
   "cell_type": "markdown",
   "id": "7842a013",
   "metadata": {},
   "source": [
    "# Final Result"
   ]
  },
  {
   "cell_type": "code",
   "execution_count": 40,
   "id": "20669d4c",
   "metadata": {},
   "outputs": [],
   "source": [
    "Submission = pd.DataFrame(zip(Y1_predict,Y2_predict), columns=(\"Heating_load\", \"Cooling_load\"))"
   ]
  },
  {
   "cell_type": "code",
   "execution_count": 41,
   "id": "d8528ff4",
   "metadata": {},
   "outputs": [
    {
     "data": {
      "text/html": [
       "<div>\n",
       "<style scoped>\n",
       "    .dataframe tbody tr th:only-of-type {\n",
       "        vertical-align: middle;\n",
       "    }\n",
       "\n",
       "    .dataframe tbody tr th {\n",
       "        vertical-align: top;\n",
       "    }\n",
       "\n",
       "    .dataframe thead th {\n",
       "        text-align: right;\n",
       "    }\n",
       "</style>\n",
       "<table border=\"1\" class=\"dataframe\">\n",
       "  <thead>\n",
       "    <tr style=\"text-align: right;\">\n",
       "      <th></th>\n",
       "      <th>Heating_load</th>\n",
       "      <th>Cooling_load</th>\n",
       "    </tr>\n",
       "  </thead>\n",
       "  <tbody>\n",
       "    <tr>\n",
       "      <th>0</th>\n",
       "      <td>15.1757</td>\n",
       "      <td>17.6620</td>\n",
       "    </tr>\n",
       "    <tr>\n",
       "      <th>1</th>\n",
       "      <td>10.4133</td>\n",
       "      <td>13.6082</td>\n",
       "    </tr>\n",
       "    <tr>\n",
       "      <th>2</th>\n",
       "      <td>36.1471</td>\n",
       "      <td>37.3948</td>\n",
       "    </tr>\n",
       "    <tr>\n",
       "      <th>3</th>\n",
       "      <td>17.4549</td>\n",
       "      <td>22.9688</td>\n",
       "    </tr>\n",
       "    <tr>\n",
       "      <th>4</th>\n",
       "      <td>32.4470</td>\n",
       "      <td>32.5838</td>\n",
       "    </tr>\n",
       "  </tbody>\n",
       "</table>\n",
       "</div>"
      ],
      "text/plain": [
       "   Heating_load  Cooling_load\n",
       "0       15.1757       17.6620\n",
       "1       10.4133       13.6082\n",
       "2       36.1471       37.3948\n",
       "3       17.4549       22.9688\n",
       "4       32.4470       32.5838"
      ]
     },
     "execution_count": 41,
     "metadata": {},
     "output_type": "execute_result"
    }
   ],
   "source": [
    "Submission.head()"
   ]
  },
  {
   "cell_type": "code",
   "execution_count": null,
   "id": "f2bce919",
   "metadata": {},
   "outputs": [],
   "source": []
  }
 ],
 "metadata": {
  "kernelspec": {
   "display_name": "Python 3 (ipykernel)",
   "language": "python",
   "name": "python3"
  },
  "language_info": {
   "codemirror_mode": {
    "name": "ipython",
    "version": 3
   },
   "file_extension": ".py",
   "mimetype": "text/x-python",
   "name": "python",
   "nbconvert_exporter": "python",
   "pygments_lexer": "ipython3",
   "version": "3.9.7"
  }
 },
 "nbformat": 4,
 "nbformat_minor": 5
}
