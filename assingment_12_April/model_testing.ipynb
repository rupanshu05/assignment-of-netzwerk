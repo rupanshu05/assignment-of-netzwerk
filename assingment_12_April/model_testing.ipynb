{
 "cells": [
  {
   "cell_type": "code",
   "execution_count": 1,
   "id": "9cd74b62",
   "metadata": {},
   "outputs": [],
   "source": [
    "import numpy as np\n",
    "import pandas as pd\n",
    "import pickle"
   ]
  },
  {
   "cell_type": "code",
   "execution_count": 2,
   "id": "2754b18a",
   "metadata": {},
   "outputs": [],
   "source": [
    "#lets put the value from the first row as follows:"
   ]
  },
  {
   "cell_type": "code",
   "execution_count": 3,
   "id": "1877d380",
   "metadata": {},
   "outputs": [],
   "source": [
    "Model_Towncar = 0\n",
    "Model_V40 = 0\n",
    "Model_V70 = 0\n",
    "Model_Villager = 0\n",
    "Model_Viper\t = 0\n",
    "Model_Voyager = 0\n",
    "Model_Windstar = 0\n",
    "Model_Wrangler = 0\n",
    "Model_Xterra = 0\n",
    "Vehicle_type_Passenger = 1\n",
    "Sales_in_thousands = 16.919\n",
    "__year_resale_value = 16.360\n",
    "Engine_size = 1.8\n",
    "Horsepower = 140.0\n",
    "Wheelbase = 101.2\n",
    "Width = 67.3\n",
    "Length = 172.4\n",
    "Curb_weight\t = 2.639\n",
    "Fuel_capacity = 13.2"
   ]
  },
  {
   "cell_type": "code",
   "execution_count": 6,
   "id": "2edde81f",
   "metadata": {},
   "outputs": [],
   "source": [
    "x = np.array([[Model_Towncar, Model_V40 ,Model_V70 , Model_Villager , Model_Viper, Model_Voyager , Model_Windstar, Model_Wrangler , Model_Xterra , Vehicle_type_Passenger , Sales_in_thousands , __year_resale_value , Engine_size , Horsepower, Wheelbase , Width , Length , Curb_weight, Fuel_capacity ,]])"
   ]
  },
  {
   "cell_type": "code",
   "execution_count": 7,
   "id": "1662feb1",
   "metadata": {},
   "outputs": [
    {
     "data": {
      "text/plain": [
       "(1, 19)"
      ]
     },
     "execution_count": 7,
     "metadata": {},
     "output_type": "execute_result"
    }
   ],
   "source": [
    "x.shape"
   ]
  },
  {
   "cell_type": "code",
   "execution_count": 8,
   "id": "6b4d092a",
   "metadata": {},
   "outputs": [],
   "source": [
    "model = pickle.load(open('model.pkl', 'rb'))"
   ]
  },
  {
   "cell_type": "code",
   "execution_count": 9,
   "id": "978107da",
   "metadata": {},
   "outputs": [],
   "source": [
    "y_prediction = model.predict(x)"
   ]
  },
  {
   "cell_type": "code",
   "execution_count": null,
   "id": "e3db5164",
   "metadata": {},
   "outputs": [],
   "source": []
  },
  {
   "cell_type": "code",
   "execution_count": null,
   "id": "9f848e46",
   "metadata": {},
   "outputs": [],
   "source": []
  }
 ],
 "metadata": {
  "kernelspec": {
   "display_name": "Python 3 (ipykernel)",
   "language": "python",
   "name": "python3"
  },
  "language_info": {
   "codemirror_mode": {
    "name": "ipython",
    "version": 3
   },
   "file_extension": ".py",
   "mimetype": "text/x-python",
   "name": "python",
   "nbconvert_exporter": "python",
   "pygments_lexer": "ipython3",
   "version": "3.9.7"
  }
 },
 "nbformat": 4,
 "nbformat_minor": 5
}
